{
 "cells": [
  {
   "cell_type": "markdown",
   "metadata": {},
   "source": [
    "<h1><a id='contents'>Contents</a></h1>\n",
    "\n",
    "[Overview](#intro)  \n",
    "[Python setup](#pyset)\n",
    "\n",
    "[get up to date with repository]\n",
    "\n",
    "[pick your files]\n",
    "\n",
    "[run the programs]\n",
    "\n",
    "[update files locally]\n",
    "\n",
    "[update the repository]"
   ]
  },
  {
   "cell_type": "markdown",
   "metadata": {},
   "source": [
    "<h1><a id='intro'>Overview of the flowerPetal manual curation process</a></h1>\n",
    "\n",
    "As part of our effort to describe the genetic basis for spotting patterns in our flowers, we have to identify quantifiable traits of these spots and measure them, to estimate the variability present in our population of flowers. These estimates of variability can then be parsed into genetic and stochastic or environmental variability. Some of our traits are called by eye, and some are called or measured using a computer. The latter process we call automated phenotyping. \n",
    "\n",
    "Before our computers can do their job of automated phenotyping, we want to make sure we are handing them clean data to work with. In our case, this means cleaning up some image data that resulted from running our photographs of petals through an image processing pipeline that attempted to convert photos to mathematical maps of petal and spot polygons. These maps look like cartoons of petals when we look at them graphically:"
   ]
  },
  {
   "cell_type": "code",
   "execution_count": null,
   "metadata": {},
   "outputs": [],
   "source": []
  },
  {
   "cell_type": "markdown",
   "metadata": {},
   "source": [
    "<h2><a id='pyset'> Python setup </a></h2>"
   ]
  },
  {
   "cell_type": "code",
   "execution_count": 7,
   "metadata": {},
   "outputs": [],
   "source": [
    "import os, sys, pathlib\n",
    "import matplotlib as mp\n",
    "import matplotlib.pyplot as plt"
   ]
  },
  {
   "cell_type": "markdown",
   "metadata": {},
   "source": [
    "The path to my local copy of the repository (will be different for you):"
   ]
  },
  {
   "cell_type": "code",
   "execution_count": 2,
   "metadata": {},
   "outputs": [],
   "source": [
    "wd=pathlib.Path('/home/daniel/Documents/cooley_lab/mimulusSpeckling/')"
   ]
  },
  {
   "cell_type": "markdown",
   "metadata": {},
   "source": [
    "Make python aware of the modules we've created. Someday I may set up a proper package for this..."
   ]
  },
  {
   "cell_type": "code",
   "execution_count": 3,
   "metadata": {},
   "outputs": [],
   "source": [
    "os.chdir(wd)\n",
    "sys.path.append(str(wd / \"make_polygons/modules\"))"
   ]
  },
  {
   "cell_type": "code",
   "execution_count": 6,
   "metadata": {
    "collapsed": true
   },
   "outputs": [
    {
     "name": "stderr",
     "output_type": "stream",
     "text": [
      "/home/daniel/Documents/cooley_lab/mimulusSpeckling/make_polygons/modules/breakSpots.py:4: UserWarning: matplotlib.pyplot as already been imported, this call will have no effect.\n",
      "  mp.use(\"TkAgg\")\n",
      "/home/daniel/Documents/cooley_lab/mimulusSpeckling/make_polygons/modules/manZoneCaller.py:4: UserWarning: matplotlib.pyplot as already been imported, this call will have no effect.\n",
      "  mp.use(\"TkAgg\")\n",
      "/home/daniel/Documents/cooley_lab/mimulusSpeckling/make_polygons/modules/spotMarker.py:4: UserWarning: matplotlib.pyplot as already been imported, this call will have no effect.\n",
      "  mp.use(\"TkAgg\")\n"
     ]
    }
   ],
   "source": [
    "import geojsonIO, breakSpots, manZoneCaller, spotMarker"
   ]
  },
  {
   "cell_type": "code",
   "execution_count": null,
   "metadata": {},
   "outputs": [],
   "source": []
  }
 ],
 "metadata": {
  "kernelspec": {
   "display_name": "Python 3",
   "language": "python",
   "name": "python3"
  },
  "language_info": {
   "codemirror_mode": {
    "name": "ipython",
    "version": 3
   },
   "file_extension": ".py",
   "mimetype": "text/x-python",
   "name": "python",
   "nbconvert_exporter": "python",
   "pygments_lexer": "ipython3",
   "version": "3.6.7"
  }
 },
 "nbformat": 4,
 "nbformat_minor": 2
}
