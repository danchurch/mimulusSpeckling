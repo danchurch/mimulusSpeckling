{
 "cells": [
  {
   "cell_type": "markdown",
   "metadata": {},
   "source": [
    "<h1><a id='contents'>Contents</a></h1>\n",
    "\n",
    "[Contents](#contents)"
   ]
  },
  {
   "cell_type": "markdown",
   "metadata": {},
   "source": [
    "<h1><a id='intro'>Overview of the flowerPetal manual curation process</a></h1>\n",
    "\n",
    "As part of our effort to describe the genetic basis for spotting patterns in our flowers, we have to identify quantifiable traits of these spots and measure them, to estimate the variability present in our population of flowers. These estimates of variability can then be parsed into genetic and stochastic or environmental variability. Some of our traits are called by eye, and some are called or measured using a computer. The latter process we call automated phenotyping. \n",
    "\n",
    "Before our computers can do their job of automated phenotyping, we want to make sure we are handing them clean data to work with. In our case, this means cleaning up some image data that resulted from running our photographs of petals through an image processing pipeline that attempted to convert photos to mathematical maps of petal and spot polygons. These maps look like cartoons of petals when we look at them graphically:"
   ]
  },
  {
   "cell_type": "code",
   "execution_count": null,
   "metadata": {},
   "outputs": [],
   "source": []
  }
 ],
 "metadata": {
  "kernelspec": {
   "display_name": "Python 3",
   "language": "python",
   "name": "python3"
  },
  "language_info": {
   "codemirror_mode": {
    "name": "ipython",
    "version": 3
   },
   "file_extension": ".py",
   "mimetype": "text/x-python",
   "name": "python",
   "nbconvert_exporter": "python",
   "pygments_lexer": "ipython3",
   "version": "3.6.7"
  }
 },
 "nbformat": 4,
 "nbformat_minor": 2
}
