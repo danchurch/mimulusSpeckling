{
 "cells": [
  {
   "cell_type": "markdown",
   "metadata": {},
   "source": [
    "Let's dive back into the process of making polygons from Doug's processed photos. Flower photos were broken into their various petals of interest, and color differences were maximized by categorizing all pixels into three color poles using kmeans clustering. A \"bottom\" petal, for instance looks like this, after Doug's pipeline (converted to grayscale):"
   ]
  },
  {
   "cell_type": "code",
   "execution_count": 1,
   "metadata": {
    "scrolled": false
   },
   "outputs": [
    {
     "data": {
      "image/png": "[encoded data removed]",
      "text/plain": [
       "<IPython.core.display.Image object>"
      ]
     },
     "metadata": {},
     "output_type": "display_data"
    }
   ],
   "source": [
    "load(\"../dougRaster/Rotated_and_Cropped/P431F1.mat\")\n",
    "pkg load image\n",
    "aa = mat2gray(Petals.Clusters.right);\n",
    "imshow(aa) %% that works."
   ]
  },
  {
   "cell_type": "markdown",
   "metadata": {},
   "source": [
    "We want to make polygons of spots and their petals. We can begin by \"peeling\" these two apart into separate, solid-black images:"
   ]
  },
  {
   "cell_type": "code",
   "execution_count": 2,
   "metadata": {
    "scrolled": false
   },
   "outputs": [
    {
     "data": {
      "image/png": "[encoded data removed]",
      "text/plain": [
       "<IPython.core.display.Image object>"
      ]
     },
     "metadata": {},
     "output_type": "display_data"
    }
   ],
   "source": [
    "bb = aa < 1;\n",
    "imshow(bb);\n"
   ]
  },
  {
   "cell_type": "code",
   "execution_count": 3,
   "metadata": {
    "scrolled": false
   },
   "outputs": [
    {
     "data": {
      "image/png": "[encoded data removed]",
      "text/plain": [
       "<IPython.core.display.Image object>"
      ]
     },
     "metadata": {},
     "output_type": "display_data"
    }
   ],
   "source": [
    "cc = aa == 0;\n",
    "imshow(cc);"
   ]
  },
  {
   "cell_type": "markdown",
   "metadata": {},
   "source": [
    "We save these and export them for gimp..."
   ]
  },
  {
   "cell_type": "code",
   "execution_count": 4,
   "metadata": {},
   "outputs": [],
   "source": [
    "imwrite(bb, 'P431F1_bottom_spots.png')\n",
    "imwrite(cc, 'P431F1_bottom_petal.png')"
   ]
  },
  {
   "cell_type": "markdown",
   "metadata": {},
   "source": [
    "Leave matlab/octave for a moment. We'll use [GIMP](https://www.gimp.org/) for detecting the edges of these black-and-white images we've created. Gimp has a command line mode that can run scripts. I wrote a script in GIMP's scriptfu language to export an svg of the edges of these petal and spot shapes:"
   ]
  },
  {
   "cell_type": "code",
   "execution_count": 2,
   "metadata": {},
   "outputs": [
    {
     "name": "stdout",
     "output_type": "stream",
     "text": [
      "(define(makePetalPoly filename)\n",
      "    (let* (\n",
      "            ;; load files, set vars\n",
      "            (image (car (gimp-file-load \n",
      "                                0 \n",
      "                                filename \n",
      "                                filename\n",
      "                        ) \n",
      "                    ) \n",
      "            )\n",
      "            (drawable (car (gimp-image-get-active-layer image)))\n",
      "            (outPut (string-append filename \"_path.svg\"))\n",
      "          )\n",
      "            ;; do stuff\n",
      "            ;;1 select black/solid regions:\n",
      "            (gimp-image-select-color \n",
      "                image\n",
      "                CHANNEL-OP-REPLACE\n",
      "                drawable\n",
      "                '(0 0 0) ;; black\n",
      "            )\n",
      "            ;;2 Convert selection to path\n",
      "            (plug-in-sel2path\n",
      "                RUN-NONINTERACTIVE\n",
      "                image\n",
      "                drawable\n",
      "            ) \n",
      "            ;;3 save path to file\n",
      "        (gimp-vectors-export-to-file\n",
      "            image\n",
      "            ;\"/Users/danthomas/Documents/speckling/make_polygons/spots_script_test.svg\"\n",
      "            outPut\n",
      "            0 ;; all vectors\n",
      "        )\n",
      "        (gimp-image-delete image)\n",
      "        ;(set! filelist (cdr filelist))\n",
      "    )\n",
      ")\n"
     ]
    }
   ],
   "source": [
    "cat makePetalPoly.scm"
   ]
  },
  {
   "cell_type": "markdown",
   "metadata": {},
   "source": [
    "---\n",
    "To use this script, place it in one of the directories that GIMP uses for scripts. In gimp 2.8, you can find this by looking in `Edit --> Preferences --> Folders --> Scripts. `\n",
    "\n",
    "On my Ubuntu machine we use GIMP and the script like this:"
   ]
  },
  {
   "cell_type": "code",
   "execution_count": 3,
   "metadata": {
    "scrolled": true
   },
   "outputs": [
    {
     "name": "stdout",
     "output_type": "stream",
     "text": [
      "\n",
      "(gimp:1249): GLib-GObject-WARNING **: g_object_set_valist: object class 'GeglConfig' has no property named 'cache-size'\n",
      "\n",
      "(gimp:1249): GEGL-gegl-operation.c-WARNING **: Cannot change name of operation class 0x2CD4940 from \"gimp:point-layer-mode\" to \"gimp:dissolve-mode\"\n",
      "\n",
      "(gimp:1249): GEGL-gegl-operation.c-WARNING **: Cannot change name of operation class 0x2CD4D50 from \"gimp:point-layer-mode\" to \"gimp:behind-mode\"\n",
      "\n",
      "(gimp:1249): GEGL-gegl-operation.c-WARNING **: Cannot change name of operation class 0x2CD50F0 from \"gimp:point-layer-mode\" to \"gimp:multiply-mode\"\n",
      "\n",
      "(gimp:1249): GEGL-gegl-operation.c-WARNING **: Cannot change name of operation class 0x2CD6200 from \"gimp:point-layer-mode\" to \"gimp:screen-mode\"\n",
      "\n",
      "(gimp:1249): GEGL-gegl-operation.c-WARNING **: Cannot change name of operation class 0x2CD65D0 from \"gimp:point-layer-mode\" to \"gimp:overlay-mode\"\n",
      "\n",
      "(gimp:1249): GEGL-gegl-operation.c-WARNING **: Cannot change name of operation class 0x2CD6A00 from \"gimp:point-layer-mode\" to \"gimp:difference-mode\"\n",
      "\n",
      "(gimp:1249): GEGL-gegl-operation.c-WARNING **: Cannot change name of operation class 0x2CD6DC0 from \"gimp:point-layer-mode\" to \"gimp:addition-mode\"\n",
      "\n",
      "(gimp:1249): GEGL-gegl-operation.c-WARNING **: Cannot change name of operation class 0x2CD7200 from \"gimp:point-layer-mode\" to \"gimp:subtract-mode\"\n",
      "\n",
      "(gimp:1249): GEGL-gegl-operation.c-WARNING **: Cannot change name of operation class 0x2CD75F0 from \"gimp:point-layer-mode\" to \"gimp:darken-only-mode\"\n",
      "\n",
      "(gimp:1249): GEGL-gegl-operation.c-WARNING **: Cannot change name of operation class 0x2CD7A40 from \"gimp:point-layer-mode\" to \"gimp:lighten-only-mode\"\n",
      "\n",
      "(gimp:1249): GEGL-gegl-operation.c-WARNING **: Cannot change name of operation class 0x2CD7E80 from \"gimp:point-layer-mode\" to \"gimp:hue-mode\"\n",
      "\n",
      "(gimp:1249): GEGL-gegl-operation.c-WARNING **: Cannot change name of operation class 0x2CD81E0 from \"gimp:point-layer-mode\" to \"gimp:saturation-mode\"\n",
      "\n",
      "(gimp:1249): GEGL-gegl-operation.c-WARNING **: Cannot change name of operation class 0x2CD8640 from \"gimp:point-layer-mode\" to \"gimp:color-mode\"\n",
      "\n",
      "(gimp:1249): GEGL-gegl-operation.c-WARNING **: Cannot change name of operation class 0x2CD8A30 from \"gimp:point-layer-mode\" to \"gimp:value-mode\"\n",
      "\n",
      "(gimp:1249): GEGL-gegl-operation.c-WARNING **: Cannot change name of operation class 0x2CD9170 from \"gimp:point-layer-mode\" to \"gimp:divide-mode\"\n",
      "\n",
      "(gimp:1249): GEGL-gegl-operation.c-WARNING **: Cannot change name of operation class 0x2CD95F0 from \"gimp:point-layer-mode\" to \"gimp:dodge-mode\"\n",
      "\n",
      "(gimp:1249): GEGL-gegl-operation.c-WARNING **: Cannot change name of operation class 0x2CD99E0 from \"gimp:point-layer-mode\" to \"gimp:burn-mode\"\n",
      "\n",
      "(gimp:1249): GEGL-gegl-operation.c-WARNING **: Cannot change name of operation class 0x2CD9E10 from \"gimp:point-layer-mode\" to \"gimp:hardlight-mode\"\n",
      "\n",
      "(gimp:1249): GEGL-gegl-operation.c-WARNING **: Cannot change name of operation class 0x2CDA1D0 from \"gimp:point-layer-mode\" to \"gimp:softlight-mode\"\n",
      "\n",
      "(gimp:1249): GEGL-gegl-operation.c-WARNING **: Cannot change name of operation class 0x2CDA610 from \"gimp:point-layer-mode\" to \"gimp:grain-extract-mode\"\n",
      "\n",
      "(gimp:1249): GEGL-gegl-operation.c-WARNING **: Cannot change name of operation class 0x2CDA9D0 from \"gimp:point-layer-mode\" to \"gimp:grain-merge-mode\"\n",
      "\n",
      "(gimp:1249): GEGL-gegl-operation.c-WARNING **: Cannot change name of operation class 0x2CDAE20 from \"gimp:point-layer-mode\" to \"gimp:color-erase-mode\"\n",
      "\n",
      "(gimp:1249): GEGL-gegl-operation.c-WARNING **: Cannot change name of operation class 0x2CDB1C0 from \"gimp:point-layer-mode\" to \"gimp:erase-mode\"\n",
      "\n",
      "(gimp:1249): GEGL-gegl-operation.c-WARNING **: Cannot change name of operation class 0x2CDB620 from \"gimp:point-layer-mode\" to \"gimp:replace-mode\"\n",
      "\n",
      "(gimp:1249): GEGL-gegl-operation.c-WARNING **: Cannot change name of operation class 0x2CDB9C0 from \"gimp:point-layer-mode\" to \"gimp:anti-erase-mode\"\n",
      "batch command executed successfully\n"
     ]
    }
   ],
   "source": [
    "gimp -i -b '(makePetalPoly \"P431F1_bottom_spots.png\")' -b '(gimp-quit 0)'"
   ]
  },
  {
   "cell_type": "markdown",
   "metadata": {},
   "source": [
    "Not sure about the GEGL-related warnings. But this then gives us an svg made of bezier curves:"
   ]
  },
  {
   "cell_type": "markdown",
   "metadata": {},
   "source": [
    "![](P431F1_bottom_spots.png_path.svg)"
   ]
  },
  {
   "cell_type": "markdown",
   "metadata": {},
   "source": [
    "This looks quite nice. Unfortunately, I haven't yet figured out how to conserve these nice curves into something that matlab will accept as polygons. We can flattened these curves by removing their control points and converting them to lines. We can do this with a big regex in SED (which might have to be modified for mac OS SED):"
   ]
  },
  {
   "cell_type": "code",
   "execution_count": 5,
   "metadata": {},
   "outputs": [],
   "source": [
    "cp P431F1_bottom_spots.png_path.svg test.svg\n",
    "sed '/^\\s*C/ s/C\\s/L /' test.svg | \\\n",
    "sed -e 's/\\([0-9]*\\.[0-9]*,[0-9]*\\.[0-9]*\\) \\([0-9]*\\.[0-9]*,[0-9]*\\.[0-9]*\\) \\([0-9]*\\.[0-9]*,[0-9]*\\.[0-9]*\\)/\\1/g' > test2.svg"
   ]
  },
  {
   "cell_type": "markdown",
   "metadata": {},
   "source": [
    "![](test2.svg)"
   ]
  },
  {
   "cell_type": "markdown",
   "metadata": {},
   "source": [
    "This is a less than perfect solution, so let's spend more time on this. Let's see if a quick dip into python, in particular [scikit-image](https://scikit-image.org/), can help us. \n",
    "\n",
    "---"
   ]
  },
  {
   "cell_type": "markdown",
   "metadata": {},
   "source": [
    "Let's get our images out of matlab/octave:"
   ]
  },
  {
   "cell_type": "code",
   "execution_count": 1,
   "metadata": {},
   "outputs": [],
   "source": [
    "## in octave:\n",
    "pkg load image\n",
    "\n",
    "## get one grayscale image:\n",
    "load(\"../dougRaster/Rotated_and_Cropped/P431F1.mat\")\n",
    "aa = mat2gray(Petals.Clusters.right);\n",
    "\n",
    "## remake our images:\n",
    "spots = aa < 1;\n",
    "\n",
    "petal = aa == 0;\n",
    "\n",
    "## save them as csv's:\n",
    "\n",
    "csvwrite('P431F1petal.csv',petal)\n",
    "csvwrite('P431F1spots.csv',spots)"
   ]
  },
  {
   "cell_type": "markdown",
   "metadata": {},
   "source": [
    "Then see if we can visualize them in Python:"
   ]
  },
  {
   "cell_type": "code",
   "execution_count": 1,
   "metadata": {},
   "outputs": [],
   "source": [
    "## python\n",
    "import numpy as np\n",
    "import matplotlib.pyplot as plt\n",
    "from skimage import data, io, filters, measure\n",
    "\n",
    "petal = np.genfromtxt ('P431F1petal.csv', delimiter=\",\")\n",
    "spots = np.genfromtxt ('P431F1spots.csv', delimiter=\",\")"
   ]
  },
  {
   "cell_type": "markdown",
   "metadata": {},
   "source": [
    "The contour module should be able to outline these spots and break them up into their individual polygons."
   ]
  },
  {
   "cell_type": "code",
   "execution_count": 2,
   "metadata": {
    "scrolled": true
   },
   "outputs": [
    {
     "data": {
      "image/png": "[encoded data removed]",
      "text/plain": [
       "<matplotlib.figure.Figure at 0x7f65f5f62630>"
      ]
     },
     "metadata": {},
     "output_type": "display_data"
    }
   ],
   "source": [
    "contours = measure.find_contours(spots, 0)\n",
    "for n, contour in enumerate(contours):\n",
    "    plt.plot(contour[:, 1], contour[:, 0], linewidth=2)\n",
    "\n",
    "#plt.show()"
   ]
  },
  {
   "cell_type": "markdown",
   "metadata": {},
   "source": [
    "Close! Looks like the contours are being interrupted by our borders. Tomorrow, let's add margins for this. "
   ]
  },
  {
   "cell_type": "code",
   "execution_count": null,
   "metadata": {},
   "outputs": [],
   "source": []
  }
 ],
 "metadata": {
  "kernelspec": {
   "display_name": "Python 3",
   "language": "python",
   "name": "python3"
  },
  "language_info": {
   "codemirror_mode": {
    "name": "ipython",
    "version": 3
   },
   "file_extension": ".py",
   "mimetype": "text/x-python",
   "name": "python",
   "nbconvert_exporter": "python",
   "pygments_lexer": "ipython3",
   "version": "3.5.2"
  }
 },
 "nbformat": 4,
 "nbformat_minor": 2
}
