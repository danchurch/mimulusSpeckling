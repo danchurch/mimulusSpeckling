{
 "cells": [
  {
   "cell_type": "markdown",
   "metadata": {},
   "source": [
    "<a id='contents'><h2>Contents</h2></a>\n",
    "\n",
    "[Getting images out of Doug's raster pipeline](#dougOut)\n",
    "\n",
    "[Digitizing polygons](#digPol)\n",
    "- [A detour that kinda went nowhere: GIMP](#deadGimp)\n",
    "- [Digitizing with scikit-image](#skimmage)"
   ]
  },
  {
   "cell_type": "markdown",
   "metadata": {},
   "source": [
    "---\n",
    "<a id='dougOut'><h3>Getting images out of Doug's raster pipeline</h3></a>\n",
    "\n",
    "Let's dive back into the process of making polygons from Doug's processed photos. Flower photos were broken into their various petals of interest, and color differences were maximized by categorizing all pixels into three color poles using kmeans clustering. A \"bottom\" petal, for instance looks like this, after Doug's pipeline (converted to grayscale):"
   ]
  },
  {
   "cell_type": "code",
   "execution_count": 1,
   "metadata": {
    "scrolled": false
   },
   "outputs": [
    {
     "data": {
      "image/png": "[encoded data removed]",
      "text/plain": [
       "<IPython.core.display.Image object>"
      ]
     },
     "metadata": {},
     "output_type": "display_data"
    }
   ],
   "source": [
    "load(\"../dougRaster/Rotated_and_Cropped/P431F1.mat\")\n",
    "pkg load image\n",
    "aa = mat2gray(Petals.Clusters.right);\n",
    "imshow(aa) %% that works."
   ]
  },
  {
   "cell_type": "markdown",
   "metadata": {},
   "source": [
    "We want to make polygons of spots and their petals. We can begin by \"peeling\" these two apart into separate, solid-black images:"
   ]
  },
  {
   "cell_type": "code",
   "execution_count": 2,
   "metadata": {
    "scrolled": false
   },
   "outputs": [
    {
     "data": {
      "image/png": "[encoded data removed]",
      "text/plain": [
       "<IPython.core.display.Image object>"
      ]
     },
     "metadata": {},
     "output_type": "display_data"
    }
   ],
   "source": [
    "bb = aa < 1;\n",
    "imshow(bb);\n"
   ]
  },
  {
   "cell_type": "code",
   "execution_count": 3,
   "metadata": {
    "scrolled": false
   },
   "outputs": [
    {
     "data": {
      "image/png": "[encoded data removed]",
      "text/plain": [
       "<IPython.core.display.Image object>"
      ]
     },
     "metadata": {},
     "output_type": "display_data"
    }
   ],
   "source": [
    "cc = aa == 0;\n",
    "imshow(cc);"
   ]
  },
  {
   "cell_type": "markdown",
   "metadata": {},
   "source": [
    "We save these and export them for gimp..."
   ]
  },
  {
   "cell_type": "code",
   "execution_count": 4,
   "metadata": {},
   "outputs": [],
   "source": [
    "imwrite(bb, 'P431F1_bottom_spots.png')\n",
    "imwrite(cc, 'P431F1_bottom_petal.png')"
   ]
  },
  {
   "cell_type": "markdown",
   "metadata": {},
   "source": [
    "We can generalize the above process, to get all of the available photos from Doug's efforts into a form ready to digitized. I wrote a matlab script for this:"
   ]
  },
  {
   "cell_type": "code",
   "execution_count": 1,
   "metadata": {
    "scrolled": false
   },
   "outputs": [
    {
     "name": "stdout",
     "output_type": "stream",
     "text": [
      "%%%%%%%%%%%%%%%%%%%%%%%%%%\n",
      "\n",
      "%% a script to put all of Doug's rasters into a form we can use:\n",
      "\n",
      "%% go to working directory\n",
      "wd = '/Users/danthomas/Documents/speckling/make_polygons/polygons/';\n",
      "cd(wd);\n",
      "\n",
      "dougRasterDir = \"/Users/danthomas/Documents/speckling/dougRaster/Rotated_and_Cropped/\";\n",
      "\n",
      "cd(dougRasterDir)\n",
      "\n",
      "files = dir('P*.mat');\n",
      "for file = files';\n",
      "    im = file.name;\n",
      "    imName = regexprep(im,'\\.mat', ''); \n",
      "    %% go get our file, come back\n",
      "    cd(dougRasterDir);\n",
      "    rast=load(im);\n",
      "    cd(wd);\n",
      "    %% make a spot for our image, go to it:\n",
      "    mkdir(imName);\n",
      "    cd (imName);\n",
      "    %% get our petal names (left, right mid)\n",
      "    petNames = fieldnames(rast.Petals.Clusters);\n",
      "    %% split images into petal and spot, export, for each of the three petals:\n",
      "    for i = 1:length(petNames);\n",
      "        pet = rast.Petals.Clusters.(petNames{i}); %petal at hand\n",
      "        rastGray = mat2gray(pet); \n",
      "        spots = rastGray  < 1; \n",
      "        petal = rastGray == 0;\n",
      "        mkdir(petNames{i});\n",
      "        cd(petNames{i});\n",
      "        fileNamePetal = imName + \"_\" +  petNames(i) + \"_\" + 'petal.csv';\n",
      "        csvwrite(fileNamePetal,petal);\n",
      "        fileNameSpots = imName + \"_\" +  petNames(i) + \"_\" + 'spots.csv';\n",
      "        csvwrite(fileNameSpots,spots);\n",
      "        cd ..;\n",
      "    end;\n",
      "    cd(wd);\n",
      "end;\n",
      "\n",
      "%%%%%%%%%%%%%%%%%%%%%%%%%%%%%\n"
     ]
    }
   ],
   "source": [
    "cat prepDougRasters.m"
   ]
  },
  {
   "cell_type": "markdown",
   "metadata": {},
   "source": [
    "This is brittle code, if the file architecture or Doug's matlab structures changes, it will break. But most of it should be useful/re-useable, so including it here. "
   ]
  },
  {
   "cell_type": "markdown",
   "metadata": {},
   "source": [
    "---\n",
    "\n",
    "<a id='digPol'><h3>Digitizing polygons</h3></a>"
   ]
  },
  {
   "cell_type": "markdown",
   "metadata": {},
   "source": [
    "<a id='deadGimp'><h4>A detour that kinda went nowhere: GIMP</h4></a>"
   ]
  },
  {
   "cell_type": "markdown",
   "metadata": {},
   "source": [
    "Leave matlab/octave for a moment. For posterity I'll record a dead-end here. This didn't work but it was some effort, so maybe some this will be useful at some point. \n",
    "\n",
    "I tried to use [GIMP](https://www.gimp.org/) for detecting the edges of these black-and-white images we've created. Gimp has a command line mode that can run scripts. I wrote a script in GIMP's scriptfu language to export an svg of the edges of these petal and spot shapes:"
   ]
  },
  {
   "cell_type": "code",
   "execution_count": 2,
   "metadata": {},
   "outputs": [
    {
     "name": "stdout",
     "output_type": "stream",
     "text": [
      "(define(makePetalPoly filename)\n",
      "    (let* (\n",
      "            ;; load files, set vars\n",
      "            (image (car (gimp-file-load \n",
      "                                0 \n",
      "                                filename \n",
      "                                filename\n",
      "                        ) \n",
      "                    ) \n",
      "            )\n",
      "            (drawable (car (gimp-image-get-active-layer image)))\n",
      "            (outPut (string-append filename \"_path.svg\"))\n",
      "          )\n",
      "            ;; do stuff\n",
      "            ;;1 select black/solid regions:\n",
      "            (gimp-image-select-color \n",
      "                image\n",
      "                CHANNEL-OP-REPLACE\n",
      "                drawable\n",
      "                '(0 0 0) ;; black\n",
      "            )\n",
      "            ;;2 Convert selection to path\n",
      "            (plug-in-sel2path\n",
      "                RUN-NONINTERACTIVE\n",
      "                image\n",
      "                drawable\n",
      "            ) \n",
      "            ;;3 save path to file\n",
      "        (gimp-vectors-export-to-file\n",
      "            image\n",
      "            ;\"/Users/danthomas/Documents/speckling/make_polygons/spots_script_test.svg\"\n",
      "            outPut\n",
      "            0 ;; all vectors\n",
      "        )\n",
      "        (gimp-image-delete image)\n",
      "        ;(set! filelist (cdr filelist))\n",
      "    )\n",
      ")\n"
     ]
    }
   ],
   "source": [
    "cat makePetalPoly.scm"
   ]
  },
  {
   "cell_type": "markdown",
   "metadata": {},
   "source": [
    "---\n",
    "To use this script, place it in one of the directories that GIMP uses for scripts. In gimp 2.8, you can find this by looking in `Edit --> Preferences --> Folders --> Scripts. `\n",
    "\n",
    "On my Ubuntu machine we use GIMP and the script like this:"
   ]
  },
  {
   "cell_type": "code",
   "execution_count": 3,
   "metadata": {
    "collapsed": true
   },
   "outputs": [
    {
     "name": "stdout",
     "output_type": "stream",
     "text": [
      "\n",
      "(gimp:1249): GLib-GObject-WARNING **: g_object_set_valist: object class 'GeglConfig' has no property named 'cache-size'\n",
      "\n",
      "(gimp:1249): GEGL-gegl-operation.c-WARNING **: Cannot change name of operation class 0x2CD4940 from \"gimp:point-layer-mode\" to \"gimp:dissolve-mode\"\n",
      "\n",
      "(gimp:1249): GEGL-gegl-operation.c-WARNING **: Cannot change name of operation class 0x2CD4D50 from \"gimp:point-layer-mode\" to \"gimp:behind-mode\"\n",
      "\n",
      "(gimp:1249): GEGL-gegl-operation.c-WARNING **: Cannot change name of operation class 0x2CD50F0 from \"gimp:point-layer-mode\" to \"gimp:multiply-mode\"\n",
      "\n",
      "(gimp:1249): GEGL-gegl-operation.c-WARNING **: Cannot change name of operation class 0x2CD6200 from \"gimp:point-layer-mode\" to \"gimp:screen-mode\"\n",
      "\n",
      "(gimp:1249): GEGL-gegl-operation.c-WARNING **: Cannot change name of operation class 0x2CD65D0 from \"gimp:point-layer-mode\" to \"gimp:overlay-mode\"\n",
      "\n",
      "(gimp:1249): GEGL-gegl-operation.c-WARNING **: Cannot change name of operation class 0x2CD6A00 from \"gimp:point-layer-mode\" to \"gimp:difference-mode\"\n",
      "\n",
      "(gimp:1249): GEGL-gegl-operation.c-WARNING **: Cannot change name of operation class 0x2CD6DC0 from \"gimp:point-layer-mode\" to \"gimp:addition-mode\"\n",
      "\n",
      "(gimp:1249): GEGL-gegl-operation.c-WARNING **: Cannot change name of operation class 0x2CD7200 from \"gimp:point-layer-mode\" to \"gimp:subtract-mode\"\n",
      "\n",
      "(gimp:1249): GEGL-gegl-operation.c-WARNING **: Cannot change name of operation class 0x2CD75F0 from \"gimp:point-layer-mode\" to \"gimp:darken-only-mode\"\n",
      "\n",
      "(gimp:1249): GEGL-gegl-operation.c-WARNING **: Cannot change name of operation class 0x2CD7A40 from \"gimp:point-layer-mode\" to \"gimp:lighten-only-mode\"\n",
      "\n",
      "(gimp:1249): GEGL-gegl-operation.c-WARNING **: Cannot change name of operation class 0x2CD7E80 from \"gimp:point-layer-mode\" to \"gimp:hue-mode\"\n",
      "\n",
      "(gimp:1249): GEGL-gegl-operation.c-WARNING **: Cannot change name of operation class 0x2CD81E0 from \"gimp:point-layer-mode\" to \"gimp:saturation-mode\"\n",
      "\n",
      "(gimp:1249): GEGL-gegl-operation.c-WARNING **: Cannot change name of operation class 0x2CD8640 from \"gimp:point-layer-mode\" to \"gimp:color-mode\"\n",
      "\n",
      "(gimp:1249): GEGL-gegl-operation.c-WARNING **: Cannot change name of operation class 0x2CD8A30 from \"gimp:point-layer-mode\" to \"gimp:value-mode\"\n",
      "\n",
      "(gimp:1249): GEGL-gegl-operation.c-WARNING **: Cannot change name of operation class 0x2CD9170 from \"gimp:point-layer-mode\" to \"gimp:divide-mode\"\n",
      "\n",
      "(gimp:1249): GEGL-gegl-operation.c-WARNING **: Cannot change name of operation class 0x2CD95F0 from \"gimp:point-layer-mode\" to \"gimp:dodge-mode\"\n",
      "\n",
      "(gimp:1249): GEGL-gegl-operation.c-WARNING **: Cannot change name of operation class 0x2CD99E0 from \"gimp:point-layer-mode\" to \"gimp:burn-mode\"\n",
      "\n",
      "(gimp:1249): GEGL-gegl-operation.c-WARNING **: Cannot change name of operation class 0x2CD9E10 from \"gimp:point-layer-mode\" to \"gimp:hardlight-mode\"\n",
      "\n",
      "(gimp:1249): GEGL-gegl-operation.c-WARNING **: Cannot change name of operation class 0x2CDA1D0 from \"gimp:point-layer-mode\" to \"gimp:softlight-mode\"\n",
      "\n",
      "(gimp:1249): GEGL-gegl-operation.c-WARNING **: Cannot change name of operation class 0x2CDA610 from \"gimp:point-layer-mode\" to \"gimp:grain-extract-mode\"\n",
      "\n",
      "(gimp:1249): GEGL-gegl-operation.c-WARNING **: Cannot change name of operation class 0x2CDA9D0 from \"gimp:point-layer-mode\" to \"gimp:grain-merge-mode\"\n",
      "\n",
      "(gimp:1249): GEGL-gegl-operation.c-WARNING **: Cannot change name of operation class 0x2CDAE20 from \"gimp:point-layer-mode\" to \"gimp:color-erase-mode\"\n",
      "\n",
      "(gimp:1249): GEGL-gegl-operation.c-WARNING **: Cannot change name of operation class 0x2CDB1C0 from \"gimp:point-layer-mode\" to \"gimp:erase-mode\"\n",
      "\n",
      "(gimp:1249): GEGL-gegl-operation.c-WARNING **: Cannot change name of operation class 0x2CDB620 from \"gimp:point-layer-mode\" to \"gimp:replace-mode\"\n",
      "\n",
      "(gimp:1249): GEGL-gegl-operation.c-WARNING **: Cannot change name of operation class 0x2CDB9C0 from \"gimp:point-layer-mode\" to \"gimp:anti-erase-mode\"\n",
      "batch command executed successfully\n"
     ]
    }
   ],
   "source": [
    "gimp -i -b '(makePetalPoly \"P431F1_bottom_spots.png\")' -b '(gimp-quit 0)'"
   ]
  },
  {
   "cell_type": "markdown",
   "metadata": {},
   "source": [
    "Not sure about the GEGL-related warnings. But this then gives us an svg made of bezier curves:"
   ]
  },
  {
   "cell_type": "markdown",
   "metadata": {},
   "source": [
    "![](P431F1_bottom_spots.png_path.svg)"
   ]
  },
  {
   "cell_type": "markdown",
   "metadata": {},
   "source": [
    "This looks quite nice. Unfortunately, I haven't yet figured out how to conserve these nice curves in some form that matlab will accept as polygons. We can flattened these curves by removing their control points and converting them to lines. We can do this with a big regex in SED (which might have to be modified for mac OS SED):"
   ]
  },
  {
   "cell_type": "code",
   "execution_count": 5,
   "metadata": {},
   "outputs": [],
   "source": [
    "cp P431F1_bottom_spots.png_path.svg test.svg\n",
    "sed '/^\\s*C/ s/C\\s/L /' test.svg | \\\n",
    "sed -e 's/\\([0-9]*\\.[0-9]*,[0-9]*\\.[0-9]*\\) \\([0-9]*\\.[0-9]*,[0-9]*\\.[0-9]*\\) \\([0-9]*\\.[0-9]*,[0-9]*\\.[0-9]*\\)/\\1/g' > test2.svg"
   ]
  },
  {
   "cell_type": "markdown",
   "metadata": {},
   "source": [
    "![](test2.svg)"
   ]
  },
  {
   "cell_type": "markdown",
   "metadata": {},
   "source": [
    "This is a less than perfect solution, so let's spend more time on this. \n",
    "\n",
    "---"
   ]
  },
  {
   "cell_type": "markdown",
   "metadata": {},
   "source": [
    "<a id='skimmage'><h4>Digitizing with scikit-image</h4></a>\n",
    "\n",
    "So let's drop the GIMP idea and try some software that's more intended for this kind of work. Let's see if a quick dip into python, in particular [scikit-image](https://scikit-image.org/), can help us. \n",
    "\n",
    "But first, let's get example images out of matlab/octave again:"
   ]
  },
  {
   "cell_type": "code",
   "execution_count": 1,
   "metadata": {},
   "outputs": [],
   "source": [
    "## in octave:\n",
    "pkg load image\n",
    "\n",
    "## get one grayscale image:\n",
    "load(\"../dougRaster/Rotated_and_Cropped/P431F1.mat\")\n",
    "aa = mat2gray(Petals.Clusters.right);\n",
    "\n",
    "## remake our images:\n",
    "spots = aa < 1;\n",
    "\n",
    "petal = aa == 0;\n",
    "\n",
    "## save them as csv's:\n",
    "\n",
    "csvwrite('P431F1petal.csv',petal)\n",
    "csvwrite('P431F1spots.csv',spots)"
   ]
  },
  {
   "cell_type": "markdown",
   "metadata": {},
   "source": [
    "Then see if we can visualize them in Python:"
   ]
  },
  {
   "cell_type": "code",
   "execution_count": 1,
   "metadata": {},
   "outputs": [],
   "source": [
    "## python\n",
    "import numpy as np\n",
    "import matplotlib.pyplot as plt\n",
    "from skimage import data, io, filters, measure\n",
    "\n",
    "petal = np.genfromtxt ('P431F1petal.csv', delimiter=\",\")\n",
    "spots = np.genfromtxt ('P431F1spots.csv', delimiter=\",\")"
   ]
  },
  {
   "cell_type": "markdown",
   "metadata": {},
   "source": [
    "The contour module should be able to outline these spots and break them up into their individual polygons."
   ]
  },
  {
   "cell_type": "code",
   "execution_count": 2,
   "metadata": {
    "scrolled": true
   },
   "outputs": [
    {
     "data": {
      "image/png": "[encoded data removed]",
      "text/plain": [
       "<matplotlib.figure.Figure at 0x7f65f5f62630>"
      ]
     },
     "metadata": {},
     "output_type": "display_data"
    }
   ],
   "source": [
    "contours = measure.find_contours(spots, 0)\n",
    "for n, contour in enumerate(contours):\n",
    "    plt.plot(contour[:, 1], contour[:, 0], linewidth=2)\n",
    "\n",
    "#plt.show()"
   ]
  },
  {
   "cell_type": "markdown",
   "metadata": {},
   "source": [
    "Close! Looks like the contours are being interrupted by our borders: "
   ]
  },
  {
   "cell_type": "code",
   "execution_count": 4,
   "metadata": {},
   "outputs": [],
   "source": [
    "## to add one pixel of white to columns:\n",
    "spots_marg = np.insert(spots, 439, 1, 1)\n",
    "spots_marg = np.insert(spots_marg, 0, 1, 1)\n",
    "## and rows:\n",
    "spots_marg = np.insert(spots_marg, 561, 1, 0)\n",
    "spots_marg = np.insert(spots_marg, 0, 1, 0)"
   ]
  },
  {
   "cell_type": "markdown",
   "metadata": {},
   "source": [
    "To keep the relative positions accurate, we have to do the the same with the petal outline:"
   ]
  },
  {
   "cell_type": "code",
   "execution_count": 5,
   "metadata": {},
   "outputs": [],
   "source": [
    "petal_marg = np.insert(petal, 439, 1, 1)\n",
    "petal_marg = np.insert(petal_marg, 0, 1, 1)\n",
    "petal_marg = np.insert(petal_marg, 561, 1, 0)\n",
    "petal_marg = np.insert(petal_marg, 0, 1, 0)"
   ]
  },
  {
   "cell_type": "markdown",
   "metadata": {},
   "source": [
    "Does this help?"
   ]
  },
  {
   "cell_type": "code",
   "execution_count": 6,
   "metadata": {},
   "outputs": [],
   "source": [
    "Pcontours = measure.find_contours(petal_marg, 0)\n",
    "contours = measure.find_contours(spots_marg, 0)"
   ]
  },
  {
   "cell_type": "code",
   "execution_count": 8,
   "metadata": {},
   "outputs": [
    {
     "data": {
      "image/png": "[encoded data removed]",
      "text/plain": [
       "<matplotlib.figure.Figure at 0x7f65c3d6fb38>"
      ]
     },
     "metadata": {},
     "output_type": "display_data"
    }
   ],
   "source": [
    "for n, contour in enumerate(contours):\n",
    "    plt.plot(contour[:, 1], contour[:, 0], linewidth=2)"
   ]
  },
  {
   "cell_type": "markdown",
   "metadata": {},
   "source": [
    "Looks like the polygons closed. With the petal outline:"
   ]
  },
  {
   "cell_type": "code",
   "execution_count": 10,
   "metadata": {
    "scrolled": true
   },
   "outputs": [
    {
     "data": {
      "text/plain": [
       "[<matplotlib.lines.Line2D at 0x7f65c375e240>]"
      ]
     },
     "execution_count": 10,
     "metadata": {},
     "output_type": "execute_result"
    },
    {
     "data": {
      "image/png": "[encoded data removed]",
      "text/plain": [
       "<matplotlib.figure.Figure at 0x7f65c37c50b8>"
      ]
     },
     "metadata": {},
     "output_type": "display_data"
    }
   ],
   "source": [
    "for n, contour in enumerate(contours):\n",
    "    plt.plot(contour[:, 1], contour[:, 0], linewidth=2)\n",
    "plt.plot(Pcontours[0][:,1], Pcontours[0][:,0], linewidth=1)"
   ]
  },
  {
   "cell_type": "code",
   "execution_count": 1,
   "metadata": {},
   "outputs": [],
   "source": [
    "photoname = 'P431F1'\n",
    "partname  = 'spots'\n",
    "petalname = 'bottom'\n",
    "\n",
    "for n, contour in enumerate(contours):\n",
    "    polyname = photoname + petalname + partname + str(n) + \"_poly.csv\"\n",
    "    np.savetxt(fname=polyname, X=contour.astype(int), delimiter=',')"
   ]
  },
  {
   "cell_type": "markdown",
   "metadata": {},
   "source": [
    "Looks good. Are these in a format that Matlab/Octave can parse? Back into Matlab:"
   ]
  },
  {
   "cell_type": "code",
   "execution_count": 15,
   "metadata": {},
   "outputs": [],
   "source": [
    "%% switch to Matlab kernel\n",
    "imatlab_export_fig('print-png') %% sets inline plotting instead of matlab's plotter"
   ]
  },
  {
   "cell_type": "code",
   "execution_count": 17,
   "metadata": {},
   "outputs": [
    {
     "name": "stdout",
     "output_type": "stream",
     "text": [
      "Warning: Polyshape has duplicate vertices, intersections, or other inconsistencies that may produce inaccurate or unexpected results. Input data has been modified to create a well-defined polyshape.\n",
      "> In polyshape/checkAndSimplify (line 421)\n",
      "  In polyshape (line 155)\n",
      "\n",
      "b = \n",
      "\n",
      "  polyshape with properties:\n",
      "\n",
      "      Vertices: [971x2 double]\n",
      "    NumRegions: 1\n",
      "      NumHoles: 0\n",
      "\n"
     ]
    }
   ],
   "source": [
    "a=csvread('P431F1bottomspots6_poly.csv');\n",
    "b=polyshape(a) %% doesn't like that we repeat our last vertex, but deals with it"
   ]
  },
  {
   "cell_type": "code",
   "execution_count": 19,
   "metadata": {
    "scrolled": false
   },
   "outputs": [
    {
     "data": {
      "image/png": "[encoded data removed]"
     },
     "metadata": {},
     "output_type": "display_data"
    }
   ],
   "source": [
    "plot(b)"
   ]
  },
  {
   "cell_type": "markdown",
   "metadata": {},
   "source": [
    "Okay! looks like matlab can parse our polygons that we make with python. Let's go back and make a nicer script that can handle some volume and that can be run from the command line...\n",
    "\n",
    "This script is saved in the repo, but here's a look at it:"
   ]
  },
  {
   "cell_type": "code",
   "execution_count": 3,
   "metadata": {
    "scrolled": true
   },
   "outputs": [
    {
     "name": "stdout",
     "output_type": "stream",
     "text": [
      "#!/usr/bin/env python3\r\n",
      "\r\n",
      "import argparse, os\r\n",
      "import numpy as np\r\n",
      "import matplotlib.pyplot as plt\r\n",
      "from skimage import data, io, filters, measure\r\n",
      "\r\n",
      "## instantiate the argparser\r\n",
      "parser = argparse.ArgumentParser()\r\n",
      "## deal with arguments:\r\n",
      "parser.add_argument('file', \r\n",
      "            help=\"Name of the .csv file from matlab that contains grayscale information about a petal.\")\r\n",
      "args = parser.parse_args()\r\n",
      "\r\n",
      "## get our image in...\r\n",
      "aa  = np.genfromtxt(args.file, delimiter = \",\")\r\n",
      "\r\n",
      "## set up our directory for saving files\r\n",
      "\r\n",
      "## name of raster image (a petal or a spots grayscale matrix from matlab)\r\n",
      "imageName = args.file[:-4] ## no file extension\r\n",
      "#imageName = argsfile[:-4] ## no file extension\r\n",
      "\r\n",
      "## current directory\r\n",
      "cwd = os.getcwd()\r\n",
      "## name of folder, based on image\r\n",
      "fullFolderName = cwd + \"/\" + imageName\r\n",
      "## make a new directory for the CSVs\r\n",
      "## we will make at the end of all this:\r\n",
      "os.makedirs(fullFolderName, exist_ok=True)\r\n",
      "\r\n",
      "aR = aa.shape[0] ## number of rows\r\n",
      "aC = aa.shape[1] ## number of cols\r\n",
      "\r\n",
      "## add one pixel of white to rows:\r\n",
      "aa_marg = np.insert(aa, aR, 1, 0)\r\n",
      "aa_marg = np.insert(aa_marg, 0, 1, 0)\r\n",
      "## and columns:\r\n",
      "aa_marg = np.insert(aa_marg, aC, 1, 1)\r\n",
      "aa_marg = np.insert(aa_marg, 0, 1, 1)\r\n",
      "\r\n",
      "## find the contours:\r\n",
      "contours = measure.find_contours(aa_marg, 0)\r\n",
      "\r\n",
      "## save them out:\r\n",
      "\r\n",
      "for n, contour in enumerate(contours):\r\n",
      "    polyname = fullFolderName + \"/\" + imageName + \"_poly\" + str(n) + \".csv\"\r\n",
      "    np.savetxt(fname=polyname, X=contour.astype(int), delimiter=',')\r\n",
      "\r\n",
      "\r\n"
     ]
    }
   ],
   "source": [
    "cat get_pols.py"
   ]
  },
  {
   "cell_type": "markdown",
   "metadata": {},
   "source": [
    "So we can run this on one of our black-and-white CSVs that we got from doug's pipeline [(above)](#dougOut)\n",
    "\n",
    "`./get_pols.py P431F1spots.csv` \n",
    "\n",
    "`./get_pols.py P431F1petals.csv`"
   ]
  },
  {
   "cell_type": "markdown",
   "metadata": {},
   "source": [
    "This creates two folders one with polygons from our spots, and one with just one file, of the outline of our petal. Let's look at them with Matlab:"
   ]
  },
  {
   "cell_type": "code",
   "execution_count": 7,
   "metadata": {},
   "outputs": [],
   "source": [
    "%% switch to Matlab kernel\n",
    "imatlab_export_fig('print-png') %% sets inline plotting instead of matlab's plotter"
   ]
  },
  {
   "cell_type": "code",
   "execution_count": 1,
   "metadata": {},
   "outputs": [],
   "source": [
    "%% some name variables, trying to set up for scripting a function \n",
    "wkd = '/Users/danthomas/Documents/speckling/make_polygons/';\n",
    "name='P431F1spots';\n",
    "\n",
    "cd(wkd);\n",
    "cd(name);"
   ]
  },
  {
   "cell_type": "markdown",
   "metadata": {},
   "source": [
    "We can read in those csvs we just made in python:"
   ]
  },
  {
   "cell_type": "code",
   "execution_count": 4,
   "metadata": {},
   "outputs": [],
   "source": [
    "aa = struct;\n",
    "counter = 1;\n",
    "files = dir('*.csv');\n",
    "for file = files';\n",
    "    coords = csvread(file.name);\n",
    "    aa(counter).coords=coords;\n",
    "    counter = counter + 1;\n",
    "end;"
   ]
  },
  {
   "cell_type": "markdown",
   "metadata": {},
   "source": [
    "For spots with enough points we can turn these into polygons. As before, polyshape() doesn't like the fact that scikit-image closes it's polygons with a repeated last vertex. But it deals with it:"
   ]
  },
  {
   "cell_type": "code",
   "execution_count": 5,
   "metadata": {},
   "outputs": [
    {
     "name": "stdout",
     "output_type": "stream",
     "text": [
      "Warning: Polyshape has duplicate vertices, intersections, or other inconsistencies that may produce inaccurate or unexpected results. Input data has been modified to create a well-defined polyshape.\n",
      "> In polyshape/checkAndSimplify (line 421)\n",
      "  In polyshape (line 155)\n",
      "\n",
      "aa = \n",
      "\n",
      "  1x14 struct array with fields:\n",
      "\n",
      "    coords\n",
      "    p\n",
      "\n",
      "Warning: Output contains an empty polyshape due to duplicate vertices, intersections, or other inconsistencies.\n",
      "> In polyshape/checkAndSimplify (line 411)\n",
      "  In polyshape (line 155)\n",
      "Warning: Polyshape has duplicate vertices, intersections, or other inconsistencies that may produce inaccurate or unexpected results. Input data has been modified to create a well-defined polyshape.\n",
      "> In polyshape/checkAndSimplify (line 421)\n",
      "  In polyshape (line 155)\n",
      "\n",
      "aa = \n",
      "\n",
      "  1x14 struct array with fields:\n",
      "\n",
      "    coords\n",
      "    p\n",
      "\n",
      "Warning: Polyshape has duplicate vertices, intersections, or other inconsistencies that may produce inaccurate or unexpected results. Input data has been modified to create a well-defined polyshape.\n",
      "> In polyshape/checkAndSimplify (line 421)\n",
      "  In polyshape (line 155)\n",
      "\n",
      "aa = \n",
      "\n",
      "  1x14 struct array with fields:\n",
      "\n",
      "    coords\n",
      "    p\n",
      "\n",
      "Warning: Polyshape has duplicate vertices, intersections, or other inconsistencies that may produce inaccurate or unexpected results. Input data has been modified to create a well-defined polyshape.\n",
      "> In polyshape/checkAndSimplify (line 421)\n",
      "  In polyshape (line 155)\n",
      "\n",
      "aa = \n",
      "\n",
      "  1x14 struct array with fields:\n",
      "\n",
      "    coords\n",
      "    p\n",
      "\n",
      "Warning: Polyshape has duplicate vertices, intersections, or other inconsistencies that may produce inaccurate or unexpected results. Input data has been modified to create a well-defined polyshape.\n",
      "> In polyshape/checkAndSimplify (line 421)\n",
      "  In polyshape (line 155)\n",
      "\n",
      "aa = \n",
      "\n",
      "  1x14 struct array with fields:\n",
      "\n",
      "    coords\n",
      "    p\n",
      "\n",
      "Warning: Polyshape has duplicate vertices, intersections, or other inconsistencies that may produce inaccurate or unexpected results. Input data has been modified to create a well-defined polyshape.\n",
      "> In polyshape/checkAndSimplify (line 421)\n",
      "  In polyshape (line 155)\n",
      "\n",
      "aa = \n",
      "\n",
      "  1x14 struct array with fields:\n",
      "\n",
      "    coords\n",
      "    p\n",
      "\n",
      "Warning: Polyshape has duplicate vertices, intersections, or other inconsistencies that may produce inaccurate or unexpected results. Input data has been modified to create a well-defined polyshape.\n",
      "> In polyshape/checkAndSimplify (line 421)\n",
      "  In polyshape (line 155)\n",
      "\n",
      "aa = \n",
      "\n",
      "  1x14 struct array with fields:\n",
      "\n",
      "    coords\n",
      "    p\n",
      "\n",
      "Warning: Polyshape has duplicate vertices, intersections, or other inconsistencies that may produce inaccurate or unexpected results. Input data has been modified to create a well-defined polyshape.\n",
      "> In polyshape/checkAndSimplify (line 421)\n",
      "  In polyshape (line 155)\n",
      "\n",
      "aa = \n",
      "\n",
      "  1x14 struct array with fields:\n",
      "\n",
      "    coords\n",
      "    p\n",
      "\n",
      "Warning: Polyshape has duplicate vertices, intersections, or other inconsistencies that may produce inaccurate or unexpected results. Input data has been modified to create a well-defined polyshape.\n",
      "> In polyshape/checkAndSimplify (line 421)\n",
      "  In polyshape (line 155)\n",
      "\n",
      "aa = \n",
      "\n",
      "  1x14 struct array with fields:\n",
      "\n",
      "    coords\n",
      "    p\n",
      "\n",
      "Warning: Polyshape has duplicate vertices, intersections, or other inconsistencies that may produce inaccurate or unexpected results. Input data has been modified to create a well-defined polyshape.\n",
      "> In polyshape/checkAndSimplify (line 421)\n",
      "  In polyshape (line 155)\n",
      "\n",
      "aa = \n",
      "\n",
      "  1x14 struct array with fields:\n",
      "\n",
      "    coords\n",
      "    p\n",
      "\n",
      "Warning: Polyshape has duplicate vertices, intersections, or other inconsistencies that may produce inaccurate or unexpected results. Input data has been modified to create a well-defined polyshape.\n",
      "> In polyshape/checkAndSimplify (line 421)\n",
      "  In polyshape (line 155)\n",
      "\n",
      "aa = \n",
      "\n",
      "  1x14 struct array with fields:\n",
      "\n",
      "    coords\n",
      "    p\n",
      "\n",
      "Warning: Polyshape has duplicate vertices, intersections, or other inconsistencies that may produce inaccurate or unexpected results. Input data has been modified to create a well-defined polyshape.\n",
      "> In polyshape/checkAndSimplify (line 421)\n",
      "  In polyshape (line 155)\n",
      "\n",
      "aa = \n",
      "\n",
      "  1x14 struct array with fields:\n",
      "\n",
      "    coords\n",
      "    p\n",
      "\n"
     ]
    }
   ],
   "source": [
    "counter=1;\n",
    "for i = aa;\n",
    "    if length(i.coords(:,1)) > 3;\n",
    "        aa(counter).p = polyshape(i.coords)\n",
    "    end;\n",
    "    counter=counter+1;\n",
    "end;"
   ]
  },
  {
   "cell_type": "markdown",
   "metadata": {},
   "source": [
    "Plot these:"
   ]
  },
  {
   "cell_type": "code",
   "execution_count": 8,
   "metadata": {},
   "outputs": [
    {
     "data": {
      "image/png": "[encoded data removed]"
     },
     "metadata": {},
     "output_type": "display_data"
    }
   ],
   "source": [
    "counter=1;\n",
    "for i = aa;\n",
    "    if ~isempty(i.p)\n",
    "        plot(i.p)\n",
    "        hold on %% keep the plot open\n",
    "    end;\n",
    "    counter=counter+1;\n",
    "end;"
   ]
  },
  {
   "cell_type": "code",
   "execution_count": 10,
   "metadata": {},
   "outputs": [
    {
     "name": "stdout",
     "output_type": "stream",
     "text": [
      "Warning: Polyshape has duplicate vertices, intersections, or other inconsistencies that may produce inaccurate or unexpected results. Input data has been modified to create a well-defined polyshape.\n",
      "> In polyshape/checkAndSimplify (line 421)\n",
      "  In polyshape (line 155)\n"
     ]
    },
    {
     "data": {
      "image/png": "[encoded data removed]"
     },
     "metadata": {},
     "output_type": "display_data"
    }
   ],
   "source": [
    "%% add our petal outline:\n",
    "\n",
    "counter=1;\n",
    "for i = aa;\n",
    "    if ~isempty(i.p)\n",
    "        plot(i.p)\n",
    "        hold on %% keep the plot open\n",
    "    end;\n",
    "    counter=counter+1;\n",
    "end;\n",
    "\n",
    "Pcoords = csvread(\"/Users/danthomas/Documents/speckling/make_polygons/P431F1petal/P431F1petal_poly0.csv\");\n",
    "Ppoly = polyshape(Pcoords);\n",
    "plot(Ppoly)\n"
   ]
  },
  {
   "cell_type": "markdown",
   "metadata": {},
   "source": [
    "Lots work to be done, and some decisions to be made. Some tiny spots are being lost - how much do we care about this little ones? \n",
    "\n",
    "But we're a lot closer to a batch process for creating matlab polygons for all images..."
   ]
  },
  {
   "cell_type": "code",
   "execution_count": null,
   "metadata": {},
   "outputs": [],
   "source": []
  }
 ],
 "metadata": {
  "kernelspec": {
   "display_name": "Bash",
   "language": "bash",
   "name": "bash"
  },
  "language_info": {
   "codemirror_mode": "shell",
   "file_extension": ".sh",
   "mimetype": "text/x-sh",
   "name": "bash"
  }
 },
 "nbformat": 4,
 "nbformat_minor": 2
}
